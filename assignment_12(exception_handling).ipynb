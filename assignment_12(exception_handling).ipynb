{
 "cells": [
  {
   "cell_type": "markdown",
   "id": "795e3a56",
   "metadata": {},
   "source": [
    "#### Q1. What is an Exception in python? Write the difference between Exceptions and syntax errors."
   ]
  },
  {
   "cell_type": "code",
   "execution_count": null,
   "id": "bb555266",
   "metadata": {},
   "outputs": [],
   "source": [
    "Exceptions:-  In Python are errors that happen while a program is running, such as trying to divide by zero or \n",
    "              opening a non-existent file. They can be managed using try-except blocks.\n",
    "\n",
    "Syntax errors :-  They are mistakes in the code's structure, like typos or missing punctuation. \n",
    "                  They are found by Python before running the code and must be fixed for the program to work."
   ]
  },
  {
   "cell_type": "markdown",
   "id": "9080e9db",
   "metadata": {},
   "source": [
    "#### Q2. What happens when exception is not handled ? explain with an example."
   ]
  },
  {
   "cell_type": "code",
   "execution_count": null,
   "id": "567626f4",
   "metadata": {},
   "outputs": [],
   "source": [
    "When an exception is not handled in a Python program, it leads to the program's termination. \n",
    "The program will stop running, and an error message will be displayed, along with a traceback that \n",
    "shows where the exception occurred. This can make your program appear unresponsive or crash unexpectedly."
   ]
  },
  {
   "cell_type": "code",
   "execution_count": 1,
   "id": "47d1a745",
   "metadata": {},
   "outputs": [],
   "source": [
    "try:\n",
    "    0/10\n",
    "except ZeroDivisionError:\n",
    "    print(\"yeah it is true\")"
   ]
  },
  {
   "cell_type": "code",
   "execution_count": null,
   "id": "ad4dc89f",
   "metadata": {},
   "outputs": [],
   "source": [
    "The program stops, and the error message indicates that a \"ZeroDivisonError\" occurred at a specific line in the code.\n",
    "Without proper exception handling, this can disrupt the flow of the program and make it challenging to provide a \n",
    "user-friendly experience or continue the program's execution gracefully. To prevent such crashes, it's important to use\n",
    "try-except blocks to catch and handle exceptions as needed."
   ]
  },
  {
   "cell_type": "markdown",
   "id": "2a3b40f8",
   "metadata": {},
   "source": [
    "#### Q3. Which python statement are used to catch and handle exception? explain with an example."
   ]
  },
  {
   "cell_type": "code",
   "execution_count": 3,
   "id": "63f8b223",
   "metadata": {},
   "outputs": [
    {
     "name": "stdout",
     "output_type": "stream",
     "text": [
      "Enter a number: 0\n",
      "Error: Division by zero is not allowed.\n"
     ]
    }
   ],
   "source": [
    "try:\n",
    "    num = int(input(\"Enter a number: \"))\n",
    "    result = 10 / num\n",
    "    print(\"Result:\", result)\n",
    "except ZeroDivisionError:\n",
    "    print(\"Error: Division by zero is not allowed.\")\n",
    "except ValueError:\n",
    "    print(\"Error: Please enter a valid number.\")\n",
    "except Exception as e:\n",
    "    print(\"An unexpected error occurred:\", e)\n"
   ]
  },
  {
   "cell_type": "code",
   "execution_count": null,
   "id": "ae950dad",
   "metadata": {},
   "outputs": [],
   "source": [
    "In Python, you can use the try and except statements to handle exceptions. Here's how they work, along with an example:\n",
    "\n",
    "try Statement: The try statement is used to enclose a block of code where an exception might occur. \n",
    "              You place the code that you want to monitor for exceptions inside the try block.\n",
    "\n",
    "except Statement: The except statement follows the try block and specifies the type of exception you want to \n",
    "                catch and how to handle it. You can have one or more except blocks to catch different types of exceptions."
   ]
  },
  {
   "cell_type": "markdown",
   "id": "054793aa",
   "metadata": {},
   "source": [
    "#### Q4. Explain with an example. a. try and else b. finally  c. raise"
   ]
  },
  {
   "cell_type": "code",
   "execution_count": 4,
   "id": "77620f6f",
   "metadata": {},
   "outputs": [
    {
     "name": "stdout",
     "output_type": "stream",
     "text": [
      "Enter a number: 10\n",
      "Result: 1.0\n",
      "Execution completed.\n"
     ]
    }
   ],
   "source": [
    "\n",
    "try:\n",
    "    num = int(input(\"Enter a number: \"))\n",
    "    result = 10 / num\n",
    "except ZeroDivisionError:\n",
    "    print(\"Error: Division by zero is not allowed.\")\n",
    "except ValueError:\n",
    "    print(\"Error: Please enter a valid number.\")\n",
    "else:\n",
    "    print(\"Result:\", result)\n",
    "finally:\n",
    "    print(\"Execution completed.\")"
   ]
  },
  {
   "cell_type": "code",
   "execution_count": null,
   "id": "b54ccf80",
   "metadata": {},
   "outputs": [],
   "source": [
    "In this example:\n",
    "\n",
    "- The try block takes user input, tries to convert it to an integer, and performs a division.\n",
    "- The except blocks catch specific exceptions if they occur, providing error messages.\n",
    "- The else block is executed if no exceptions occur and displays the result.\n",
    "- The finally block is always executed, indicating the completion of execution.\n",
    "\n",
    "This structure ensures that your program handles exceptions gracefully, provides meaningful error messages, \n",
    "displays results when there are no errors, and performs cleanup tasks as necessary."
   ]
  },
  {
   "cell_type": "markdown",
   "id": "824a86f7",
   "metadata": {},
   "source": [
    "#### Q5. What are the custom exception in python? why do we need custom exception? explain with an example."
   ]
  },
  {
   "cell_type": "code",
   "execution_count": 6,
   "id": "e39de918",
   "metadata": {},
   "outputs": [
    {
     "name": "stdout",
     "output_type": "stream",
     "text": [
      "Insufficient funds. Current balance: 100, required: 150\n"
     ]
    }
   ],
   "source": [
    "class InsufficientFundsError(Exception):\n",
    "    def __init__(self, balance, amount):\n",
    "        self.balance = balance\n",
    "        self.amount = amount\n",
    "        super().__init__(f\"Insufficient funds. Current balance: {balance}, required: {amount}\")\n",
    "\n",
    "def withdraw(account_balance, amount):\n",
    "    if account_balance < amount:\n",
    "        raise InsufficientFundsError(account_balance, amount)\n",
    "    else:\n",
    "        new_balance = account_balance - amount\n",
    "        return new_balance\n",
    "try:\n",
    "    account_balance = 100\n",
    "    withdrawal_amount = 150\n",
    "    new_balance = withdraw(account_balance, withdrawal_amount)\n",
    "except InsufficientFundsError as e:\n",
    "    print(e)\n",
    "else:\n",
    "    print(f\"Withdrawal successful. New balance: {new_balance}\")\n",
    "\n"
   ]
  },
  {
   "cell_type": "code",
   "execution_count": null,
   "id": "38c80f2e",
   "metadata": {},
   "outputs": [],
   "source": [
    "In this example, we've created a custom exception called InsufficientFundsError, which takes the current balance and\n",
    "the required amount as arguments. When a withdrawal operation is attempted, \n",
    "if the balance is insufficient, we raise this custom exception. Otherwise, the withdrawal is processed."
   ]
  },
  {
   "cell_type": "markdown",
   "id": "a67b17fa",
   "metadata": {},
   "source": [
    "#### Q6. Create a custome exception class. use this class to handle the exception."
   ]
  },
  {
   "cell_type": "code",
   "execution_count": 7,
   "id": "01eafbcb",
   "metadata": {},
   "outputs": [],
   "source": [
    "class CustomError(Exception):\n",
    "    def __init__(self, message):\n",
    "        super().__init__(message)\n",
    "custom_exception = CustomError(\"This is a custom exception.\")\n"
   ]
  },
  {
   "cell_type": "code",
   "execution_count": 8,
   "id": "1c63be99",
   "metadata": {},
   "outputs": [
    {
     "name": "stdout",
     "output_type": "stream",
     "text": [
      "Custom Exception Caught: Something went wrong.\n"
     ]
    }
   ],
   "source": [
    "try:\n",
    "\n",
    "    raise CustomError(\"Something went wrong.\")\n",
    "except CustomError as e:\n",
    "    print(f\"Custom Exception Caught: {e}\")\n",
    "else:\n",
    "    print(\"Code continues executing if no exception occurs.\")\n"
   ]
  },
  {
   "cell_type": "code",
   "execution_count": null,
   "id": "5688dbad",
   "metadata": {},
   "outputs": [],
   "source": []
  }
 ],
 "metadata": {
  "kernelspec": {
   "display_name": "Python 3 (ipykernel)",
   "language": "python",
   "name": "python3"
  },
  "language_info": {
   "codemirror_mode": {
    "name": "ipython",
    "version": 3
   },
   "file_extension": ".py",
   "mimetype": "text/x-python",
   "name": "python",
   "nbconvert_exporter": "python",
   "pygments_lexer": "ipython3",
   "version": "3.9.13"
  }
 },
 "nbformat": 4,
 "nbformat_minor": 5
}
